{
 "cells": [
  {
   "cell_type": "markdown",
   "metadata": {},
   "source": [
    "# Decision tree that will help decide which stocks are a valid buy\n"
   ]
  },
  {
   "cell_type": "markdown",
   "metadata": {},
   "source": [
    "## Getting the data\n"
   ]
  },
  {
   "cell_type": "code",
   "execution_count": 6,
   "metadata": {},
   "outputs": [],
   "source": [
    "import sqlite3 as sql\n",
    "import pandas as pd\n",
    "import yfinance as yf"
   ]
  },
  {
   "cell_type": "code",
   "execution_count": 7,
   "metadata": {},
   "outputs": [],
   "source": [
    "\n",
    "\n",
    "def get_cash_flow_increase(cash_flow):\n",
    "      i=3\n",
    "      old_cf = 0\n",
    "      while i >-1:\n",
    "            year = cash_flow.columns[i]\n",
    "\n",
    "            cf = cash_flow[year].loc['Free Cash Flow']\n",
    "\n",
    "            if float(cf) > old_cf:\n",
    "                  old_cf = cf\n",
    "            else:\n",
    "                  return False\n",
    "            \n",
    "            i-=1\n",
    "            \n",
    "      return True\n",
    "\n"
   ]
  },
  {
   "cell_type": "code",
   "execution_count": 11,
   "metadata": {},
   "outputs": [],
   "source": [
    "\n",
    "\n",
    "\n",
    "\n",
    "#top 50 stocks by market cap\n",
    "stock_tickers = [\"MSFT\",\"CHGG\", \"AAPL\", \"NVDA\", \"GOOG\", \"GOOGL\", \"AMZN\", \"META\",\n",
    "                 \"LLY\", \"AVGO\", \"TSLA\", \"V\", \"WMT\", \"XOM\", \"UNH\", \"MA\", \n",
    "                 \"ORCL\", \"COST\", \"ADBE\", \"NFLX\", \"CVX\", \"AMD\", \"KO\", \"ABBV\", \n",
    "                 \"MRK\", \"PEP\", \"TMO\", \"ACN\", \"CRM\", \"ABT\", \"LIN\", \"MCD\", \n",
    "                 \"MDT\", \"AMGN\", \"PYPL\", \"INTC\", \"HON\", \"RTX\", \"TXN\", \"QCOM\", \n",
    "                 \"UPS\", \"NKE\", \"PM\", \"SBUX\", \"IBM\", \"BMY\", \"PFE\", \"CAT\", \"SPGI\", \"DHR\"\n",
    "]\n",
    "\n",
    "\n",
    "stock_info_dfs = []\n",
    "\n",
    "for stock in stock_tickers:\n",
    "\n",
    "    ticker = yf.Ticker(stock)\n",
    "\n",
    "    balance_sheet = ticker.balance_sheet\n",
    "\n",
    "    income_statement = ticker.income_stmt\n",
    "\n",
    "    cash_flow = ticker.cash_flow\n",
    "\n",
    "    # categories = cash_flow.index.tolist()\n",
    "\n",
    "    #displays all category names in the balance shet, income statement or cash flow report depending on which is entered\n",
    "    # for category in categories:\n",
    "    #     print(category)\n",
    "\n",
    "    #data that will be used to determine the validity of a stock buy\n",
    "\n",
    "    #create the database\n",
    "\n",
    "    \n",
    "    \n",
    "    most_recent_year_b = balance_sheet.columns[0]\n",
    "    most_recent_year_istmt = income_statement.columns[0]\n",
    "    \n",
    "    current_assets = balance_sheet[most_recent_year_b].loc['Current Assets']\n",
    "    current_liabilities = balance_sheet[most_recent_year_b].loc['Current Liabilities']\n",
    "    operating_income = income_statement[most_recent_year_istmt].loc['Operating Income']\n",
    "    total_revenue = income_statement[most_recent_year_istmt].loc['Total Revenue']\n",
    "    free_cash_flow_4 = cash_flow.loc['Free Cash Flow']\n",
    "\n",
    "    \n",
    "    data = {\n",
    "        'Total Current Assets': current_assets,\n",
    "        'Total Current Liabilities': current_liabilities,\n",
    "        'Operating Income': operating_income,\n",
    "        'Total Revenue': total_revenue,\n",
    "        'Free Cash Flow over last 4 years': free_cash_flow_4\n",
    "    }\n",
    "\n",
    "   \n",
    "\n",
    "    \n",
    "    if float(current_assets/current_liabilities) > 1 and float(operating_income/total_revenue) > .15 and get_cash_flow_increase(cash_flow):\n",
    "        data.update({'Buy': 1})\n",
    "    else:\n",
    "        data.update({'Buy': 0})\n",
    "        \n",
    "        \n",
    "\n",
    "\n",
    "\n",
    "    data = pd.DataFrame(data)\n",
    "\n",
    "    stock_info_dfs.append(data)\n",
    "\n",
    "\n",
    "stock_dict = dict(zip(stock_tickers, stock_info_dfs))\n",
    "\n",
    "\n",
    "\n",
    "\n",
    "\n",
    "\n",
    "\n",
    "\n",
    "\n",
    "\n"
   ]
  },
  {
   "cell_type": "code",
   "execution_count": 12,
   "metadata": {},
   "outputs": [],
   "source": [
    "#create SQLite Database\n",
    "\n",
    "conn = sql.connect('stock_criteria.db')\n",
    "\n",
    "for ticker, df in stock_dict.items():\n",
    "    df.to_sql(ticker, conn, if_exists='replace', index = False)\n",
    "\n",
    "conn.close()\n"
   ]
  },
  {
   "cell_type": "markdown",
   "metadata": {},
   "source": [
    "\n",
    "## Node Class"
   ]
  },
  {
   "cell_type": "code",
   "execution_count": 10,
   "metadata": {},
   "outputs": [],
   "source": [
    "class Node:\n",
    "    def __init__(self, feature_index = None, threshold = None, left = None, right = None, info_gain = None, value = None):\n",
    "        \n",
    "        #for decision node\n",
    "        self.feature_index = feature_index\n",
    "        self.threshold = threshold\n",
    "        self.left = left\n",
    "        self.right = right\n",
    "        self.info_gain = info_gain\n",
    "\n",
    "        #for leaf node\n",
    "        self.value = value\n"
   ]
  },
  {
   "cell_type": "code",
   "execution_count": null,
   "metadata": {},
   "outputs": [],
   "source": []
  }
 ],
 "metadata": {
  "kernelspec": {
   "display_name": "venv",
   "language": "python",
   "name": "python3"
  },
  "language_info": {
   "codemirror_mode": {
    "name": "ipython",
    "version": 3
   },
   "file_extension": ".py",
   "mimetype": "text/x-python",
   "name": "python",
   "nbconvert_exporter": "python",
   "pygments_lexer": "ipython3",
   "version": "3.10.11"
  }
 },
 "nbformat": 4,
 "nbformat_minor": 2
}
