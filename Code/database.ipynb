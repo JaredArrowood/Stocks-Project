{
 "cells": [
  {
   "cell_type": "markdown",
   "metadata": {},
   "source": [
    "# Creating a database using yfinance stock data\n"
   ]
  },
  {
   "cell_type": "markdown",
   "metadata": {},
   "source": [
    "## Getting the data\n"
   ]
  },
  {
   "cell_type": "code",
   "execution_count": 52,
   "metadata": {},
   "outputs": [],
   "source": [
    "import sqlite3 as sql\n",
    "import pandas as pd\n",
    "import yfinance as yf"
   ]
  },
  {
   "cell_type": "code",
   "execution_count": 53,
   "metadata": {},
   "outputs": [],
   "source": [
    "\n",
    "\n",
    "def get_cash_flow_increase(cash_flow):\n",
    "      i=3\n",
    "      old_cf = 0\n",
    "      while i >-1:\n",
    "            year = cash_flow.columns[i]\n",
    "\n",
    "            cf = cash_flow[year].loc['Free Cash Flow']\n",
    "\n",
    "            if float(cf) > old_cf:\n",
    "                  old_cf = cf\n",
    "            else:\n",
    "                  return False\n",
    "            \n",
    "            i-=1\n",
    "            \n",
    "      return True\n",
    "\n"
   ]
  },
  {
   "cell_type": "code",
   "execution_count": 54,
   "metadata": {},
   "outputs": [],
   "source": [
    "#Populate the database with the desired stock information\n",
    "\n",
    "\n",
    "\n",
    "#top 50 stocks by market cap\n",
    "stock_tickers = [\"MSFT\",\"CHGG\", \"AAPL\", \"NVDA\", \"GOOG\", \"GOOGL\", \"AMZN\", \"META\",\n",
    "                 \"LLY\", \"AVGO\", \"TSLA\", \"V\", \"WMT\", \"XOM\", \"UNH\", \"MA\", \n",
    "                 \"ORCL\", \"COST\", \"ADBE\", \"NFLX\", \"CVX\", \"AMD\", \"KO\", \"ABBV\", \n",
    "                 \"MRK\", \"PEP\", \"TMO\", \"ACN\", \"CRM\", \"ABT\", \"LIN\", \"MCD\", \n",
    "                 \"MDT\", \"AMGN\", \"PYPL\", \"INTC\", \"HON\", \"RTX\", \"TXN\", \"QCOM\", \n",
    "                 \"UPS\", \"NKE\", \"PM\", \"SBUX\", \"IBM\", \"BMY\", \"PFE\", \"CAT\", \"SPGI\", \"DHR\"\n",
    "]\n",
    "\n",
    "\n",
    "stock_info_dfs = []\n",
    "\n",
    "for stock in stock_tickers:\n",
    "\n",
    "    ticker = yf.Ticker(stock)\n",
    "\n",
    "    balance_sheet = ticker.balance_sheet\n",
    "\n",
    "    income_statement = ticker.income_stmt\n",
    "\n",
    "    cash_flow = ticker.cash_flow\n",
    "\n",
    "    ticker_list = []\n",
    "\n",
    "    # categories = cash_flow.index.tolist()\n",
    "\n",
    "    #displays all category names in the balance shet, income statement or cash flow report depending on which is entered\n",
    "    # for category in categories:\n",
    "    #     print(category)\n",
    "\n",
    "    #data that will be used to determine the validity of a stock buy\n",
    "\n",
    "    #create the database\n",
    "    \n",
    "    \n",
    "    most_recent_year_b = balance_sheet.columns[0]\n",
    "    most_recent_year_istmt = income_statement.columns[0]\n",
    "\n",
    "    \n",
    "    current_assets = balance_sheet.loc['Current Assets']\n",
    "    current_liabilities = balance_sheet.loc['Current Liabilities']\n",
    "    operating_income = income_statement.loc['Operating Income']\n",
    "    total_revenue = income_statement.loc['Total Revenue']\n",
    "    free_cash_flow_4 = cash_flow.loc['Free Cash Flow']\n",
    "\n",
    "    data = {\n",
    "        'Name': stock,\n",
    "        'Total Current Assets': current_assets,\n",
    "        'Total Current Liabilities': current_liabilities,\n",
    "        'Operating Income': operating_income,\n",
    "        'Total Revenue': total_revenue,\n",
    "        'Free Cash Flow over last 4 years': free_cash_flow_4\n",
    "    }\n",
    "\n",
    "    # print(data)\n",
    "\n",
    "   \n",
    "\n",
    "    \n",
    "    if float(current_assets[most_recent_year_b]/current_liabilities[most_recent_year_b]) > 1 and float(operating_income[most_recent_year_istmt]/total_revenue[most_recent_year_istmt]) > .15 and get_cash_flow_increase(cash_flow):\n",
    "        data.update({'Buy': 1})\n",
    "    else:\n",
    "        data.update({'Buy': 0})\n",
    "        \n",
    "        \n",
    "\n",
    "\n",
    "\n",
    "    data = pd.DataFrame(data)\n",
    "\n",
    "    stock_info_dfs.append(data)\n",
    "\n",
    "\n"
   ]
  },
  {
   "cell_type": "code",
   "execution_count": 58,
   "metadata": {},
   "outputs": [],
   "source": [
    "#for all the stock dataframes, add the stock ticker data to a csv file\n",
    "\n",
    "stock_info = pd.concat(stock_info_dfs).dropna()\n",
    "stock_info.index.name = 'Dates'\n",
    "stock_info = stock_info.reset_index('Dates')\n",
    "stock_info.to_csv('preprocessed_stock_info.csv')\n",
    "\n"
   ]
  },
  {
   "cell_type": "markdown",
   "metadata": {},
   "source": [
    "## Train a model on the data"
   ]
  },
  {
   "cell_type": "code",
   "execution_count": 60,
   "metadata": {},
   "outputs": [
    {
     "name": "stdout",
     "output_type": "stream",
     "text": [
      "0.95\n"
     ]
    }
   ],
   "source": [
    "from sklearn.model_selection import train_test_split\n",
    "from sklearn.tree import DecisionTreeClassifier as dt\n",
    "\n",
    "#load the data\n",
    "stock_info = pd.read_csv('preprocessed_stock_info.csv')\n",
    "\n",
    "X = stock_info.drop(['Name','Dates','Buy'], axis=1)\n",
    "y = stock_info['Buy']\n",
    "\n",
    "\n",
    "X_train, X_test, y_train, y_test = train_test_split(X, y, test_size=0.2, random_state=42)\n",
    "\n",
    "model = dt()\n",
    "model.fit(X_train, y_train)\n",
    "\n",
    "print(model.score(X_test, y_test))\n",
    "\n"
   ]
  },
  {
   "cell_type": "code",
   "execution_count": null,
   "metadata": {},
   "outputs": [],
   "source": []
  }
 ],
 "metadata": {
  "kernelspec": {
   "display_name": "venv",
   "language": "python",
   "name": "python3"
  },
  "language_info": {
   "codemirror_mode": {
    "name": "ipython",
    "version": 3
   },
   "file_extension": ".py",
   "mimetype": "text/x-python",
   "name": "python",
   "nbconvert_exporter": "python",
   "pygments_lexer": "ipython3",
   "version": "3.10.11"
  }
 },
 "nbformat": 4,
 "nbformat_minor": 2
}
